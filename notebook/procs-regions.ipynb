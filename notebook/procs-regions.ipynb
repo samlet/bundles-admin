{
 "cells": [
  {
   "cell_type": "code",
   "execution_count": 1,
   "id": "1de50cf3",
   "metadata": {
    "ExecuteTime": {
     "end_time": "2022-08-10T18:29:42.690464Z",
     "start_time": "2022-08-10T18:29:42.680112Z"
    }
   },
   "outputs": [],
   "source": [
    "# import os\n",
    "# import sys\n",
    "# module_path = os.path.abspath(os.path.join('..'))\n",
    "# if module_path not in sys.path:\n",
    "#     sys.path.append(module_path)"
   ]
  },
  {
   "cell_type": "code",
   "execution_count": 2,
   "id": "b21b6cb5",
   "metadata": {
    "ExecuteTime": {
     "end_time": "2022-08-10T18:29:42.835980Z",
     "start_time": "2022-08-10T18:29:42.697323Z"
    }
   },
   "outputs": [
    {
     "name": "stderr",
     "output_type": "stream",
     "text": [
      "bluecc.bundles.bundles_bridge: INFO     connect to py4j-gateway localhost 25333\n",
      "bluecc.bundles.bundles_bridge: INFO     connector version bundle-bridge-1.0\n"
     ]
    }
   ],
   "source": [
    "from bluecc.bundles.bundles_bridge import bridge"
   ]
  },
  {
   "cell_type": "code",
   "execution_count": 3,
   "id": "3e9c19dd",
   "metadata": {
    "ExecuteTime": {
     "end_time": "2022-08-10T18:29:42.889683Z",
     "start_time": "2022-08-10T18:29:42.853836Z"
    }
   },
   "outputs": [
    {
     "data": {
      "text/plain": [
       "'/Users/xiaofeiwu/sagas/projs/bundles-admin/notebook'"
      ]
     },
     "execution_count": 3,
     "metadata": {},
     "output_type": "execute_result"
    }
   ],
   "source": [
    "import os\n",
    "cwd = os.getcwd()\n",
    "cwd"
   ]
  },
  {
   "cell_type": "code",
   "execution_count": 4,
   "id": "5ec9783b",
   "metadata": {
    "ExecuteTime": {
     "end_time": "2022-08-10T18:29:42.919810Z",
     "start_time": "2022-08-10T18:29:42.905717Z"
    }
   },
   "outputs": [
    {
     "data": {
      "text/plain": [
       "'bundle-bridge-1.0'"
      ]
     },
     "execution_count": 4,
     "metadata": {},
     "output_type": "execute_result"
    }
   ],
   "source": [
    "bridge.version"
   ]
  },
  {
   "cell_type": "code",
   "execution_count": 5,
   "id": "6ebc2f9c",
   "metadata": {
    "ExecuteTime": {
     "end_time": "2022-08-10T18:29:42.934133Z",
     "start_time": "2022-08-10T18:29:42.925111Z"
    }
   },
   "outputs": [
    {
     "data": {
      "text/plain": [
       "JavaObject id=o40"
      ]
     },
     "execution_count": 5,
     "metadata": {},
     "output_type": "execute_result"
    }
   ],
   "source": [
    "bridge.regions"
   ]
  },
  {
   "cell_type": "code",
   "execution_count": 6,
   "id": "762f6c52",
   "metadata": {
    "ExecuteTime": {
     "end_time": "2022-08-10T18:29:42.953952Z",
     "start_time": "2022-08-10T18:29:42.941124Z"
    }
   },
   "outputs": [
    {
     "data": {
      "text/plain": [
       "set()"
      ]
     },
     "execution_count": 6,
     "metadata": {},
     "output_type": "execute_result"
    }
   ],
   "source": [
    "notes=bridge.regions.noteDefaultBundles()\n",
    "notes.queryIds()"
   ]
  },
  {
   "cell_type": "code",
   "execution_count": 7,
   "id": "da556d3b",
   "metadata": {
    "ExecuteTime": {
     "end_time": "2022-08-10T18:29:42.989676Z",
     "start_time": "2022-08-10T18:29:42.964363Z"
    }
   },
   "outputs": [
    {
     "data": {
      "text/plain": [
       "'ax7RjaZxVyrhXJ1F7ugWWQ'"
      ]
     },
     "execution_count": 7,
     "metadata": {},
     "output_type": "execute_result"
    }
   ],
   "source": [
    "# bridge.j.IdUtil.slug()\n",
    "slug=bridge.j.IdUtil.slug\n",
    "slug()"
   ]
  },
  {
   "cell_type": "code",
   "execution_count": 9,
   "id": "e22b2f64",
   "metadata": {
    "ExecuteTime": {
     "end_time": "2022-08-10T18:30:32.258632Z",
     "start_time": "2022-08-10T18:30:32.239386Z"
    }
   },
   "outputs": [
    {
     "data": {
      "text/plain": [
       "<py4j.java_gateway.JavaClass at 0x7fd2e6a1b850>"
      ]
     },
     "execution_count": 9,
     "metadata": {},
     "output_type": "execute_result"
    }
   ],
   "source": [
    "bridge.j.EntityDataUtil"
   ]
  }
 ],
 "metadata": {
  "kernelspec": {
   "display_name": "Python 3",
   "language": "python",
   "name": "python3"
  },
  "language_info": {
   "codemirror_mode": {
    "name": "ipython",
    "version": 3
   },
   "file_extension": ".py",
   "mimetype": "text/x-python",
   "name": "python",
   "nbconvert_exporter": "python",
   "pygments_lexer": "ipython3",
   "version": "3.8.8"
  },
  "varInspector": {
   "cols": {
    "lenName": 16,
    "lenType": 16,
    "lenVar": 40
   },
   "kernels_config": {
    "python": {
     "delete_cmd_postfix": "",
     "delete_cmd_prefix": "del ",
     "library": "var_list.py",
     "varRefreshCmd": "print(var_dic_list())"
    },
    "r": {
     "delete_cmd_postfix": ") ",
     "delete_cmd_prefix": "rm(",
     "library": "var_list.r",
     "varRefreshCmd": "cat(var_dic_list()) "
    }
   },
   "types_to_exclude": [
    "module",
    "function",
    "builtin_function_or_method",
    "instance",
    "_Feature"
   ],
   "window_display": false
  }
 },
 "nbformat": 4,
 "nbformat_minor": 5
}
